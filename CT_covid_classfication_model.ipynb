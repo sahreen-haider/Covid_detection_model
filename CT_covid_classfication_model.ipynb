{
  "cells": [
    {
      "cell_type": "code",
      "execution_count": 1,
      "metadata": {},
      "outputs": [],
      "source": [
        "import os\n",
        "os.environ['SM_FRAMEWORK'] = 'tf.keras'"
      ]
    },
    {
      "cell_type": "code",
      "execution_count": 2,
      "metadata": {
        "id": "QQIwIK1qjn3v"
      },
      "outputs": [
        {
          "name": "stderr",
          "output_type": "stream",
          "text": [
            "2023-10-17 01:07:37.332976: I tensorflow/core/platform/cpu_feature_guard.cc:182] This TensorFlow binary is optimized to use available CPU instructions in performance-critical operations.\n",
            "To enable the following instructions: AVX2 FMA, in other operations, rebuild TensorFlow with the appropriate compiler flags.\n"
          ]
        }
      ],
      "source": [
        "import tensorflow as tf\n",
        "from tensorflow.keras.models import Model\n",
        "from tensorflow.keras.preprocessing import image\n",
        "from sklearn.metrics import accuracy_score, classification_report, confusion_matrix\n",
        "from tensorflow.keras.preprocessing.image import ImageDataGenerator\n",
        "from sklearn.model_selection import train_test_split\n",
        "from tensorflow.keras.callbacks import EarlyStopping\n",
        "import numpy as np\n",
        "import pandas as pd\n",
        "import cv2\n",
        "import matplotlib.pyplot as plt"
      ]
    },
    {
      "cell_type": "code",
      "execution_count": 3,
      "metadata": {
        "id": "m7b3ZQggjn3y"
      },
      "outputs": [],
      "source": [
        "# resizing all the images\n",
        "IMAGE_SIZE = (100,100)\n",
        "path = '/Users/sahreenhaider/Downloads/New_Data_CoV2'\n",
        "data = []"
      ]
    },
    {
      "cell_type": "code",
      "execution_count": 4,
      "metadata": {
        "colab": {
          "base_uri": "https://localhost:8080/"
        },
        "id": "a4a6fpYjjn3z",
        "outputId": "a2eb1dff-4018-4bdc-a044-27991b291420"
      },
      "outputs": [],
      "source": [
        "def data_loader():\n",
        "  main_folder = 0\n",
        "  folder = 0\n",
        "  sub_folder = 0\n",
        "  c = 0\n",
        "  try:\n",
        "    for folder in os.listdir(path):\n",
        "      try:\n",
        "        sub_path=path+\"/\"+folder\n",
        "        for folder2 in os.listdir(sub_path):\n",
        "          try:\n",
        "            sub_path2=sub_path+\"/\"+folder2\n",
        "            for img in os.listdir(sub_path2):\n",
        "              image_path=sub_path2+\"/\"+img\n",
        "              img_arr=cv2.imread(image_path)\n",
        "              img_arr=cv2.resize(img_arr,IMAGE_SIZE)\n",
        "              data.append(img_arr)\n",
        "          except Exception as E:\n",
        "            c+=1\n",
        "      except Exception as E:\n",
        "        sub_folder += 1\n",
        "  except Exception as E:\n",
        "    main_folder += 1   "
      ]
    },
    {
      "cell_type": "code",
      "execution_count": 5,
      "metadata": {},
      "outputs": [],
      "source": [
        "data_loader()"
      ]
    },
    {
      "cell_type": "code",
      "execution_count": 6,
      "metadata": {
        "id": "vgVAfw5Qjn31"
      },
      "outputs": [],
      "source": [
        "# converting the data list consisting of arrays into an array\n",
        "X = np.array(data)"
      ]
    },
    {
      "cell_type": "code",
      "execution_count": 7,
      "metadata": {
        "colab": {
          "base_uri": "https://localhost:8080/"
        },
        "id": "h1z0r2bCjn31",
        "outputId": "a86be863-1809-4c88-dd2c-452d43d870b2"
      },
      "outputs": [
        {
          "data": {
            "text/plain": [
              "(4171, 100, 100, 3)"
            ]
          },
          "execution_count": 7,
          "metadata": {},
          "output_type": "execute_result"
        }
      ],
      "source": [
        "# shape of X\n",
        "X.shape"
      ]
    },
    {
      "cell_type": "code",
      "execution_count": 8,
      "metadata": {
        "id": "xUxFRzqijn32"
      },
      "outputs": [],
      "source": [
        "# normalizing the input\n",
        "x = X/255"
      ]
    },
    {
      "cell_type": "code",
      "execution_count": 9,
      "metadata": {
        "colab": {
          "base_uri": "https://localhost:8080/"
        },
        "id": "cmVAszvkjn33",
        "outputId": "7562c380-d35c-44cb-c1f2-fa7b898aefbe"
      },
      "outputs": [
        {
          "name": "stdout",
          "output_type": "stream",
          "text": [
            "Found 4171 images belonging to 3 classes.\n"
          ]
        }
      ],
      "source": [
        "# using datagen to agument the existing input data to make the prediction labels\n",
        "datagen = ImageDataGenerator(rescale = 1/255)\n",
        "dataset = datagen.flow_from_directory(path,\n",
        "                                    target_size = IMAGE_SIZE,\n",
        "                                    batch_size = 32,\n",
        "                                    class_mode = 'sparse')"
      ]
    },
    {
      "cell_type": "code",
      "execution_count": 10,
      "metadata": {
        "colab": {
          "base_uri": "https://localhost:8080/"
        },
        "id": "udbdE82ijn34",
        "outputId": "efde0629-7dbf-40e0-cb7b-1c6bd34aa645"
      },
      "outputs": [
        {
          "data": {
            "text/plain": [
              "{'Covid': 0, 'Healthy': 1, 'Others': 2}"
            ]
          },
          "execution_count": 10,
          "metadata": {},
          "output_type": "execute_result"
        }
      ],
      "source": [
        "# classes of predict labels\n",
        "dataset.class_indices"
      ]
    },
    {
      "cell_type": "code",
      "execution_count": 11,
      "metadata": {
        "id": "MtwGL_gJjn35"
      },
      "outputs": [],
      "source": [
        "y = dataset.classes"
      ]
    },
    {
      "cell_type": "code",
      "execution_count": 12,
      "metadata": {
        "colab": {
          "base_uri": "https://localhost:8080/"
        },
        "id": "R4hbqT8Ijn35",
        "outputId": "751fb6b2-bdb1-4afe-d36c-e9ca8a515512"
      },
      "outputs": [
        {
          "data": {
            "text/plain": [
              "(4171,)"
            ]
          },
          "execution_count": 12,
          "metadata": {},
          "output_type": "execute_result"
        }
      ],
      "source": [
        "y.shape"
      ]
    },
    {
      "cell_type": "code",
      "execution_count": 13,
      "metadata": {
        "colab": {
          "base_uri": "https://localhost:8080/"
        },
        "id": "6tIVCcmVjn36",
        "outputId": "8a56eae4-caac-4f7a-c23b-7f0c75a48103"
      },
      "outputs": [
        {
          "data": {
            "text/plain": [
              "(4171, 100, 100, 3)"
            ]
          },
          "execution_count": 13,
          "metadata": {},
          "output_type": "execute_result"
        }
      ],
      "source": [
        "x.shape"
      ]
    },
    {
      "cell_type": "code",
      "execution_count": 14,
      "metadata": {
        "id": "au33KTnJjn37"
      },
      "outputs": [],
      "source": [
        "# splitting the data into train, validation, test sets\n",
        "x_train, x_test, y_train, y_test = train_test_split(x, y, test_size = 0.1)\n",
        "x_train, x_val, y_train, y_val = train_test_split(x_train, y_train, test_size=0.2)"
      ]
    },
    {
      "cell_type": "code",
      "execution_count": 15,
      "metadata": {
        "colab": {
          "base_uri": "https://localhost:8080/"
        },
        "id": "0ZsiAvWcjn37",
        "outputId": "452f49c8-5b93-4e01-d25e-5fd2b8aa60df"
      },
      "outputs": [
        {
          "data": {
            "text/plain": [
              "((3002, 100, 100, 3), (3002,))"
            ]
          },
          "execution_count": 15,
          "metadata": {},
          "output_type": "execute_result"
        }
      ],
      "source": [
        "x_train.shape, y_train.shape"
      ]
    },
    {
      "cell_type": "code",
      "execution_count": 16,
      "metadata": {
        "colab": {
          "base_uri": "https://localhost:8080/"
        },
        "id": "D8VJcHH0jn37",
        "outputId": "5fd662ad-bdce-4539-e76e-727bf7510edf"
      },
      "outputs": [
        {
          "data": {
            "text/plain": [
              "((751, 100, 100, 3), (751,))"
            ]
          },
          "execution_count": 16,
          "metadata": {},
          "output_type": "execute_result"
        }
      ],
      "source": [
        "x_val.shape, y_val.shape"
      ]
    },
    {
      "cell_type": "code",
      "execution_count": 17,
      "metadata": {
        "colab": {
          "base_uri": "https://localhost:8080/"
        },
        "id": "lQ19u6Uqjn38",
        "outputId": "9c2de372-476a-4a08-ce90-ccceb67f15e1"
      },
      "outputs": [
        {
          "data": {
            "text/plain": [
              "((418, 100, 100, 3), (418,))"
            ]
          },
          "execution_count": 17,
          "metadata": {},
          "output_type": "execute_result"
        }
      ],
      "source": [
        "x_test.shape, y_test.shape"
      ]
    },
    {
      "cell_type": "code",
      "execution_count": 18,
      "metadata": {
        "colab": {
          "base_uri": "https://localhost:8080/"
        },
        "id": "K_AdWXU5jn38",
        "outputId": "cb9034d3-4bda-414f-9d68-0bdda9b466c7"
      },
      "outputs": [
        {
          "data": {
            "text/plain": [
              "(100, 100, 3)"
            ]
          },
          "execution_count": 18,
          "metadata": {},
          "output_type": "execute_result"
        }
      ],
      "source": [
        "x_train[0].shape"
      ]
    },
    {
      "cell_type": "code",
      "execution_count": 19,
      "metadata": {
        "colab": {
          "base_uri": "https://localhost:8080/"
        },
        "id": "iublzY1ujn38",
        "outputId": "56411947-39a4-4c53-d9ad-580eb35a3821"
      },
      "outputs": [
        {
          "name": "stdout",
          "output_type": "stream",
          "text": [
            "Model: \"sequential\"\n",
            "_________________________________________________________________\n",
            " Layer (type)                Output Shape              Param #   \n",
            "=================================================================\n",
            " conv2d (Conv2D)             (None, 98, 98, 32)        896       \n",
            "                                                                 \n",
            " max_pooling2d (MaxPooling2D  (None, 49, 49, 32)       0         \n",
            " )                                                               \n",
            "                                                                 \n",
            " batch_normalization (BatchN  (None, 49, 49, 32)       128       \n",
            " ormalization)                                                   \n",
            "                                                                 \n",
            " conv2d_1 (Conv2D)           (None, 47, 47, 32)        9248      \n",
            "                                                                 \n",
            " max_pooling2d_1 (MaxPooling  (None, 23, 23, 32)       0         \n",
            " 2D)                                                             \n",
            "                                                                 \n",
            " batch_normalization_1 (Batc  (None, 23, 23, 32)       128       \n",
            " hNormalization)                                                 \n",
            "                                                                 \n",
            " conv2d_2 (Conv2D)           (None, 21, 21, 64)        18496     \n",
            "                                                                 \n",
            " max_pooling2d_2 (MaxPooling  (None, 10, 10, 64)       0         \n",
            " 2D)                                                             \n",
            "                                                                 \n",
            " batch_normalization_2 (Batc  (None, 10, 10, 64)       256       \n",
            " hNormalization)                                                 \n",
            "                                                                 \n",
            " conv2d_3 (Conv2D)           (None, 8, 8, 64)          36928     \n",
            "                                                                 \n",
            " max_pooling2d_3 (MaxPooling  (None, 4, 4, 64)         0         \n",
            " 2D)                                                             \n",
            "                                                                 \n",
            " batch_normalization_3 (Batc  (None, 4, 4, 64)         256       \n",
            " hNormalization)                                                 \n",
            "                                                                 \n",
            " flatten (Flatten)           (None, 1024)              0         \n",
            "                                                                 \n",
            " dense (Dense)               (None, 3)                 3075      \n",
            "                                                                 \n",
            "=================================================================\n",
            "Total params: 69,411\n",
            "Trainable params: 69,027\n",
            "Non-trainable params: 384\n",
            "_________________________________________________________________\n"
          ]
        }
      ],
      "source": [
        "from tensorflow._api.v2.nn import dropout\n",
        "model = tf.keras.Sequential()\n",
        "\n",
        "# convoltuion layer\n",
        "model.add(tf.keras.layers.Conv2D(32, (3,3), activation = tf.nn.relu, input_shape = x_train[0].shape))\n",
        "# pooling layer\n",
        "model.add(tf.keras.layers.MaxPool2D(2,2))\n",
        "model.add(tf.keras.layers.BatchNormalization())\n",
        "\n",
        "\n",
        "# convolution layer\n",
        "model.add(tf.keras.layers.Conv2D(32, (3,3), activation = tf.nn.relu))\n",
        "# pooling layer\n",
        "model.add(tf.keras.layers.MaxPool2D(2,2))\n",
        "model.add(tf.keras.layers.BatchNormalization())\n",
        "\n",
        "# convolution layer\n",
        "model.add(tf.keras.layers.Conv2D(64, (3,3), activation = tf.nn.relu))\n",
        "# pooling layer\n",
        "model.add(tf.keras.layers.MaxPool2D(2,2))\n",
        "model.add(tf.keras.layers.BatchNormalization())\n",
        "\n",
        "# convolution layer\n",
        "model.add(tf.keras.layers.Conv2D(64, (3,3), activation = tf.nn.relu))\n",
        "# pooling layer\n",
        "model.add(tf.keras.layers.MaxPool2D(2,2))\n",
        "model.add(tf.keras.layers.BatchNormalization())\n",
        "\n",
        "# input layer\n",
        "model.add(tf.keras.layers.Flatten())\n",
        "\n",
        "\n",
        "# output layer\n",
        "model.add(tf.keras.layers.Dense(3, activation = tf.nn.softmax))\n",
        "\n",
        "model.summary()"
      ]
    },
    {
      "cell_type": "code",
      "execution_count": 20,
      "metadata": {
        "id": "UtDPNiq_jn39"
      },
      "outputs": [],
      "source": [
        "# compile the model\n",
        "model.compile(optimizer='adam', loss='sparse_categorical_crossentropy', metrics=['accuracy'])"
      ]
    },
    {
      "cell_type": "code",
      "execution_count": 22,
      "metadata": {
        "id": "r6VoScDljn39"
      },
      "outputs": [],
      "source": [
        "early_stop = EarlyStopping(monitor='val_loss', mode='min', verbose=1, start_from_epoch = 7, patience=15)"
      ]
    },
    {
      "cell_type": "code",
      "execution_count": 23,
      "metadata": {
        "colab": {
          "base_uri": "https://localhost:8080/"
        },
        "id": "PH5Gt6Vcjn39",
        "outputId": "129c24fe-031a-47be-bd11-9d454cb23c78"
      },
      "outputs": [
        {
          "name": "stdout",
          "output_type": "stream",
          "text": [
            "Epoch 1/50\n",
            "94/94 [==============================] - 42s 407ms/step - loss: 0.9698 - accuracy: 0.5736 - val_loss: 1.1079 - val_accuracy: 0.2983\n",
            "Epoch 2/50\n",
            "94/94 [==============================] - 48s 510ms/step - loss: 0.6622 - accuracy: 0.7169 - val_loss: 1.1081 - val_accuracy: 0.2996\n",
            "Epoch 3/50\n",
            "94/94 [==============================] - 37s 396ms/step - loss: 0.5218 - accuracy: 0.7928 - val_loss: 1.2864 - val_accuracy: 0.3036\n",
            "Epoch 4/50\n",
            "94/94 [==============================] - 42s 446ms/step - loss: 0.3805 - accuracy: 0.8671 - val_loss: 1.3206 - val_accuracy: 0.3835\n",
            "Epoch 5/50\n",
            "94/94 [==============================] - 39s 410ms/step - loss: 0.2635 - accuracy: 0.9174 - val_loss: 0.7714 - val_accuracy: 0.6711\n",
            "Epoch 6/50\n",
            "94/94 [==============================] - 41s 437ms/step - loss: 0.2187 - accuracy: 0.9260 - val_loss: 0.8007 - val_accuracy: 0.6977\n",
            "Epoch 7/50\n",
            "94/94 [==============================] - 38s 403ms/step - loss: 0.1379 - accuracy: 0.9637 - val_loss: 1.3466 - val_accuracy: 0.5686\n",
            "Epoch 8/50\n",
            "94/94 [==============================] - 38s 403ms/step - loss: 0.0794 - accuracy: 0.9853 - val_loss: 0.6914 - val_accuracy: 0.7377\n",
            "Epoch 9/50\n",
            "94/94 [==============================] - 40s 421ms/step - loss: 0.0301 - accuracy: 0.9993 - val_loss: 0.6807 - val_accuracy: 0.7550\n",
            "Epoch 10/50\n",
            "94/94 [==============================] - 37s 395ms/step - loss: 0.0144 - accuracy: 1.0000 - val_loss: 0.7324 - val_accuracy: 0.7550\n",
            "Epoch 11/50\n",
            "94/94 [==============================] - 36s 384ms/step - loss: 0.0077 - accuracy: 1.0000 - val_loss: 0.6438 - val_accuracy: 0.7750\n",
            "Epoch 12/50\n",
            "94/94 [==============================] - 38s 400ms/step - loss: 0.0052 - accuracy: 1.0000 - val_loss: 0.6934 - val_accuracy: 0.7696\n",
            "Epoch 13/50\n",
            "94/94 [==============================] - 35s 377ms/step - loss: 0.0042 - accuracy: 1.0000 - val_loss: 0.6882 - val_accuracy: 0.7670\n",
            "Epoch 14/50\n",
            "94/94 [==============================] - 36s 378ms/step - loss: 0.0034 - accuracy: 1.0000 - val_loss: 0.6727 - val_accuracy: 0.7723\n",
            "Epoch 15/50\n",
            "94/94 [==============================] - 37s 395ms/step - loss: 0.0028 - accuracy: 1.0000 - val_loss: 0.6750 - val_accuracy: 0.7750\n",
            "Epoch 16/50\n",
            "94/94 [==============================] - 36s 385ms/step - loss: 0.0023 - accuracy: 1.0000 - val_loss: 0.7156 - val_accuracy: 0.7803\n",
            "Epoch 17/50\n",
            "94/94 [==============================] - 36s 381ms/step - loss: 0.0021 - accuracy: 1.0000 - val_loss: 0.6967 - val_accuracy: 0.7696\n",
            "Epoch 18/50\n",
            "94/94 [==============================] - 36s 384ms/step - loss: 0.0018 - accuracy: 1.0000 - val_loss: 0.6947 - val_accuracy: 0.7723\n",
            "Epoch 19/50\n",
            "94/94 [==============================] - 39s 410ms/step - loss: 0.0016 - accuracy: 1.0000 - val_loss: 0.7075 - val_accuracy: 0.7776\n",
            "Epoch 20/50\n",
            "94/94 [==============================] - 38s 399ms/step - loss: 0.0014 - accuracy: 1.0000 - val_loss: 0.7044 - val_accuracy: 0.7710\n",
            "Epoch 21/50\n",
            "94/94 [==============================] - 35s 375ms/step - loss: 0.0012 - accuracy: 1.0000 - val_loss: 0.7266 - val_accuracy: 0.7736\n",
            "Epoch 22/50\n",
            "94/94 [==============================] - 34s 366ms/step - loss: 0.0011 - accuracy: 1.0000 - val_loss: 0.7251 - val_accuracy: 0.7736\n",
            "Epoch 23/50\n",
            "94/94 [==============================] - 37s 387ms/step - loss: 0.0010 - accuracy: 1.0000 - val_loss: 0.7250 - val_accuracy: 0.7736\n",
            "Epoch 24/50\n",
            "94/94 [==============================] - 35s 371ms/step - loss: 8.9191e-04 - accuracy: 1.0000 - val_loss: 0.7310 - val_accuracy: 0.7736\n",
            "Epoch 25/50\n",
            "94/94 [==============================] - 36s 382ms/step - loss: 8.1431e-04 - accuracy: 1.0000 - val_loss: 0.7306 - val_accuracy: 0.7750\n",
            "Epoch 26/50\n",
            "94/94 [==============================] - 36s 379ms/step - loss: 7.4235e-04 - accuracy: 1.0000 - val_loss: 0.7659 - val_accuracy: 0.7736\n",
            "Epoch 26: early stopping\n"
          ]
        }
      ],
      "source": [
        "record = model.fit(x_train, y_train, validation_data=(x_val, y_val), epochs=50, callbacks=[early_stop], shuffle=True)"
      ]
    },
    {
      "cell_type": "code",
      "execution_count": 24,
      "metadata": {
        "colab": {
          "base_uri": "https://localhost:8080/",
          "height": 430
        },
        "id": "-9dHeZGIjn3-",
        "outputId": "cd5aaf71-6694-43c7-985c-4bab2938a181"
      },
      "outputs": [
        {
          "data": {
            "image/png": "[encoded data removed]",
            "text/plain": [
              "<Figure size 640x480 with 1 Axes>"
            ]
          },
          "metadata": {},
          "output_type": "display_data"
        }
      ],
      "source": [
        "plt.plot(record.history['loss'], label = 'train loss')\n",
        "plt.plot(record.history['val_loss'], label = 'val loss')\n",
        "plt.legend()\n",
        "\n",
        "plt.savefig('loss_graph.png')\n",
        "plt.show()"
      ]
    },
    {
      "cell_type": "code",
      "execution_count": 25,
      "metadata": {
        "colab": {
          "base_uri": "https://localhost:8080/",
          "height": 430
        },
        "id": "fUi9T3iojn3-",
        "outputId": "e50f7449-51af-45a5-fd91-5d9811db6f67"
      },
      "outputs": [
        {
          "data": {
            "image/png": "[encoded data removed]",
            "text/plain": [
              "<Figure size 640x480 with 1 Axes>"
            ]
          },
          "metadata": {},
          "output_type": "display_data"
        }
      ],
      "source": [
        "# accuracy over epochs\n",
        "plt.plot(record.history['accuracy'], label = 'train acc')\n",
        "plt.plot(record.history['val_accuracy'], label = 'val acc')\n",
        "plt.legend()\n",
        "plt.savefig('acc-graph.png')\n",
        "plt.show()"
      ]
    },
    {
      "cell_type": "code",
      "execution_count": 26,
      "metadata": {
        "colab": {
          "base_uri": "https://localhost:8080/"
        },
        "id": "77f2QBCkxGnx",
        "outputId": "c46299d0-11a8-40fb-bb23-ab31a961e56a"
      },
      "outputs": [
        {
          "name": "stdout",
          "output_type": "stream",
          "text": [
            "24/24 [==============================] - 4s 127ms/step\n",
            "              precision    recall  f1-score   support\n",
            "\n",
            "           0       0.91      0.80      0.85       454\n",
            "           1       0.55      0.68      0.61       102\n",
            "           2       0.66      0.75      0.70       195\n",
            "\n",
            "    accuracy                           0.77       751\n",
            "   macro avg       0.70      0.74      0.72       751\n",
            "weighted avg       0.80      0.77      0.78       751\n",
            "\n"
          ]
        }
      ],
      "source": [
        "y_val_pred = model.predict(x_val)\n",
        "y_val_pred = np.argmax(y_val_pred, axis=1)\n",
        "print(classification_report(y_val_pred, y_val))"
      ]
    },
    {
      "cell_type": "code",
      "execution_count": 27,
      "metadata": {
        "colab": {
          "base_uri": "https://localhost:8080/"
        },
        "id": "tWmZ1wpUysqg",
        "outputId": "c4e666b5-a076-46b8-a6bb-dad25481751e"
      },
      "outputs": [
        {
          "data": {
            "text/plain": [
              "array([[365,  33,  56],\n",
              "       [ 12,  69,  21],\n",
              "       [ 24,  24, 147]])"
            ]
          },
          "execution_count": 27,
          "metadata": {},
          "output_type": "execute_result"
        }
      ],
      "source": [
        "confusion_matrix(y_val_pred, y_val)"
      ]
    },
    {
      "cell_type": "code",
      "execution_count": 28,
      "metadata": {
        "colab": {
          "base_uri": "https://localhost:8080/"
        },
        "id": "6qkr0Sgny0gW",
        "outputId": "6df8d425-ab85-44f0-9481-0fc391955971"
      },
      "outputs": [
        {
          "name": "stdout",
          "output_type": "stream",
          "text": [
            "14/14 [==============================] - 2s 100ms/step\n"
          ]
        }
      ],
      "source": [
        "y_pred = model.predict(x_test)\n",
        "y_pred = np.argmax(y_pred, axis = 1)"
      ]
    },
    {
      "cell_type": "code",
      "execution_count": 29,
      "metadata": {
        "colab": {
          "base_uri": "https://localhost:8080/"
        },
        "id": "70hUe1ldzB72",
        "outputId": "1b0f97fd-d38f-47aa-fc2c-547b189e4b82"
      },
      "outputs": [
        {
          "data": {
            "text/plain": [
              "0.7655502392344498"
            ]
          },
          "execution_count": 29,
          "metadata": {},
          "output_type": "execute_result"
        }
      ],
      "source": [
        "accuracy_score(y_pred, y_test)"
      ]
    },
    {
      "cell_type": "code",
      "execution_count": 30,
      "metadata": {
        "colab": {
          "base_uri": "https://localhost:8080/"
        },
        "id": "MFZGNqEmzHb6",
        "outputId": "a1be625e-fff0-408e-90cf-36f4be4b03ab"
      },
      "outputs": [
        {
          "name": "stdout",
          "output_type": "stream",
          "text": [
            "              precision    recall  f1-score   support\n",
            "\n",
            "           0       0.91      0.81      0.85       240\n",
            "           1       0.55      0.69      0.62        52\n",
            "           2       0.65      0.71      0.68       126\n",
            "\n",
            "    accuracy                           0.77       418\n",
            "   macro avg       0.70      0.74      0.72       418\n",
            "weighted avg       0.78      0.77      0.77       418\n",
            "\n"
          ]
        }
      ],
      "source": [
        "print(classification_report(y_pred, y_test))"
      ]
    },
    {
      "cell_type": "code",
      "execution_count": 31,
      "metadata": {
        "colab": {
          "base_uri": "https://localhost:8080/"
        },
        "id": "rFEHOdHkzQMk",
        "outputId": "09a715ad-1d96-49e0-c15d-dff04768e690"
      },
      "outputs": [
        {
          "data": {
            "text/plain": [
              "array([[194,   9,  37],\n",
              "       [  4,  36,  12],\n",
              "       [ 16,  20,  90]])"
            ]
          },
          "execution_count": 31,
          "metadata": {},
          "output_type": "execute_result"
        }
      ],
      "source": [
        "confusion_matrix(y_pred, y_test)"
      ]
    },
    {
      "cell_type": "code",
      "execution_count": null,
      "metadata": {},
      "outputs": [],
      "source": [
        "model.to_json('/Users/sahreenhaider/Documents/Covid_detection_model/model.json')"
      ]
    },
    {
      "cell_type": "code",
      "execution_count": 33,
      "metadata": {
        "id": "o8i5gZR2zWBb"
      },
      "outputs": [],
      "source": [
        "model.save('/Users/sahreenhaider/Documents/Covid_detection_model/model.h5')"
      ]
    }
  ],
  "metadata": {
    "accelerator": "GPU",
    "colab": {
      "gpuType": "T4",
      "provenance": []
    },
    "kernelspec": {
      "display_name": "Python 3",
      "name": "python3"
    },
    "language_info": {
      "codemirror_mode": {
        "name": "ipython",
        "version": 3
      },
      "file_extension": ".py",
      "mimetype": "text/x-python",
      "name": "python",
      "nbconvert_exporter": "python",
      "pygments_lexer": "ipython3",
      "version": "3.11.2"
    },
    "orig_nbformat": 4
  },
  "nbformat": 4,
  "nbformat_minor": 0
}
