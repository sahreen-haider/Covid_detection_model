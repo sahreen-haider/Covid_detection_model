{
  "cells": [
    {
      "cell_type": "code",
      "execution_count": 3,
      "metadata": {},
      "outputs": [],
      "source": [
        "import os\n",
        "os.environ['SM_FRAMEWORK'] = 'tf.keras'"
      ]
    },
    {
      "cell_type": "code",
      "execution_count": 3,
      "metadata": {
        "id": "QQIwIK1qjn3v"
      },
      "outputs": [],
      "source": [
        "import tensorflow as tf\n",
        "from tensorflow.keras.models import Model\n",
        "from tensorflow.keras.preprocessing import image\n",
        "from sklearn.metrics import accuracy_score, classification_report, confusion_matrix\n",
        "from tensorflow.keras.preprocessing.image import ImageDataGenerator\n",
        "from sklearn.model_selection import train_test_split\n",
        "from tensorflow.keras.callbacks import EarlyStopping\n",
        "import numpy as np\n",
        "import pandas as pd\n",
        "import cv2\n",
        "import matplotlib.pyplot as plt"
      ]
    },
    {
      "cell_type": "code",
      "execution_count": 51,
      "metadata": {
        "id": "m7b3ZQggjn3y"
      },
      "outputs": [],
      "source": [
        "# resizing all the images\n",
        "IMAGE_SIZE = (100,100)\n",
        "path = '/Users/sahreenhaider/Downloads/New_Data_CoV2'\n",
        "data = []"
      ]
    },
    {
      "cell_type": "code",
      "execution_count": 52,
      "metadata": {
        "colab": {
          "base_uri": "https://localhost:8080/"
        },
        "id": "a4a6fpYjjn3z",
        "outputId": "a2eb1dff-4018-4bdc-a044-27991b291420"
      },
      "outputs": [],
      "source": [
        "def data_loader():\n",
        "  main_folder = 0\n",
        "  folder = 0\n",
        "  sub_folder = 0\n",
        "  c = 0\n",
        "  try:\n",
        "    for folder in os.listdir(path):\n",
        "      try:\n",
        "        sub_path=path+\"/\"+folder\n",
        "        for folder2 in os.listdir(sub_path):\n",
        "          try:\n",
        "            sub_path2=sub_path+\"/\"+folder2\n",
        "            for img in os.listdir(sub_path2):\n",
        "              image_path=sub_path2+\"/\"+img\n",
        "              img_arr=cv2.imread(image_path)\n",
        "              img_arr=cv2.resize(img_arr,IMAGE_SIZE)\n",
        "              data.append(img_arr)\n",
        "          except Exception as E:\n",
        "            c+=1\n",
        "      except Exception as E:\n",
        "        sub_folder += 1\n",
        "  except Exception as E:\n",
        "    main_folder += 1   "
      ]
    },
    {
      "cell_type": "code",
      "execution_count": 53,
      "metadata": {},
      "outputs": [],
      "source": [
        "data_loader()"
      ]
    },
    {
      "cell_type": "code",
      "execution_count": 54,
      "metadata": {
        "id": "vgVAfw5Qjn31"
      },
      "outputs": [],
      "source": [
        "# converting the data list consisting of arrays into an array\n",
        "X = np.array(data)"
      ]
    },
    {
      "cell_type": "code",
      "execution_count": null,
      "metadata": {},
      "outputs": [],
      "source": []
    },
    {
      "cell_type": "code",
      "execution_count": 55,
      "metadata": {
        "colab": {
          "base_uri": "https://localhost:8080/"
        },
        "id": "h1z0r2bCjn31",
        "outputId": "a86be863-1809-4c88-dd2c-452d43d870b2"
      },
      "outputs": [
        {
          "data": {
            "text/plain": [
              "(4171, 100, 100, 3)"
            ]
          },
          "execution_count": 55,
          "metadata": {},
          "output_type": "execute_result"
        }
      ],
      "source": [
        "# shape of X\n",
        "X.shape"
      ]
    },
    {
      "cell_type": "code",
      "execution_count": 56,
      "metadata": {
        "id": "xUxFRzqijn32"
      },
      "outputs": [],
      "source": [
        "# normalizing the input\n",
        "x = X/255"
      ]
    },
    {
      "cell_type": "code",
      "execution_count": 57,
      "metadata": {
        "colab": {
          "base_uri": "https://localhost:8080/"
        },
        "id": "cmVAszvkjn33",
        "outputId": "7562c380-d35c-44cb-c1f2-fa7b898aefbe"
      },
      "outputs": [
        {
          "name": "stdout",
          "output_type": "stream",
          "text": [
            "Found 4171 images belonging to 3 classes.\n"
          ]
        }
      ],
      "source": [
        "# using datagen to agument the existing input data to make the prediction labels\n",
        "datagen = ImageDataGenerator(rescale = 1/255)\n",
        "dataset = datagen.flow_from_directory(path,\n",
        "                                    target_size = IMAGE_SIZE,\n",
        "                                    batch_size = 32,\n",
        "                                    class_mode = 'sparse')"
      ]
    },
    {
      "cell_type": "code",
      "execution_count": 58,
      "metadata": {
        "colab": {
          "base_uri": "https://localhost:8080/"
        },
        "id": "udbdE82ijn34",
        "outputId": "efde0629-7dbf-40e0-cb7b-1c6bd34aa645"
      },
      "outputs": [
        {
          "data": {
            "text/plain": [
              "{'Covid': 0, 'Healthy': 1, 'Others': 2}"
            ]
          },
          "execution_count": 58,
          "metadata": {},
          "output_type": "execute_result"
        }
      ],
      "source": [
        "# classes of predict labels\n",
        "dataset.class_indices"
      ]
    },
    {
      "cell_type": "code",
      "execution_count": 59,
      "metadata": {
        "id": "MtwGL_gJjn35"
      },
      "outputs": [],
      "source": [
        "y = dataset.classes"
      ]
    },
    {
      "cell_type": "code",
      "execution_count": 60,
      "metadata": {
        "colab": {
          "base_uri": "https://localhost:8080/"
        },
        "id": "R4hbqT8Ijn35",
        "outputId": "751fb6b2-bdb1-4afe-d36c-e9ca8a515512"
      },
      "outputs": [
        {
          "data": {
            "text/plain": [
              "(4171,)"
            ]
          },
          "execution_count": 60,
          "metadata": {},
          "output_type": "execute_result"
        }
      ],
      "source": [
        "y.shape"
      ]
    },
    {
      "cell_type": "code",
      "execution_count": 61,
      "metadata": {
        "colab": {
          "base_uri": "https://localhost:8080/"
        },
        "id": "6tIVCcmVjn36",
        "outputId": "8a56eae4-caac-4f7a-c23b-7f0c75a48103"
      },
      "outputs": [
        {
          "data": {
            "text/plain": [
              "(4171, 100, 100, 3)"
            ]
          },
          "execution_count": 61,
          "metadata": {},
          "output_type": "execute_result"
        }
      ],
      "source": [
        "x.shape"
      ]
    },
    {
      "cell_type": "code",
      "execution_count": 62,
      "metadata": {
        "id": "au33KTnJjn37"
      },
      "outputs": [],
      "source": [
        "# splitting the data into train, validation, test sets\n",
        "x_train, x_test, y_train, y_test = train_test_split(x, y, test_size = 0.1)\n",
        "x_train, x_val, y_train, y_val = train_test_split(x_train, y_train, test_size=0.2)"
      ]
    },
    {
      "cell_type": "code",
      "execution_count": 63,
      "metadata": {
        "colab": {
          "base_uri": "https://localhost:8080/"
        },
        "id": "0ZsiAvWcjn37",
        "outputId": "452f49c8-5b93-4e01-d25e-5fd2b8aa60df"
      },
      "outputs": [
        {
          "data": {
            "text/plain": [
              "((3002, 100, 100, 3), (3002,))"
            ]
          },
          "execution_count": 63,
          "metadata": {},
          "output_type": "execute_result"
        }
      ],
      "source": [
        "x_train.shape, y_train.shape"
      ]
    },
    {
      "cell_type": "code",
      "execution_count": 64,
      "metadata": {
        "colab": {
          "base_uri": "https://localhost:8080/"
        },
        "id": "D8VJcHH0jn37",
        "outputId": "5fd662ad-bdce-4539-e76e-727bf7510edf"
      },
      "outputs": [
        {
          "data": {
            "text/plain": [
              "((751, 100, 100, 3), (751,))"
            ]
          },
          "execution_count": 64,
          "metadata": {},
          "output_type": "execute_result"
        }
      ],
      "source": [
        "x_val.shape, y_val.shape"
      ]
    },
    {
      "cell_type": "code",
      "execution_count": 65,
      "metadata": {
        "colab": {
          "base_uri": "https://localhost:8080/"
        },
        "id": "lQ19u6Uqjn38",
        "outputId": "9c2de372-476a-4a08-ce90-ccceb67f15e1"
      },
      "outputs": [
        {
          "data": {
            "text/plain": [
              "((418, 100, 100, 3), (418,))"
            ]
          },
          "execution_count": 65,
          "metadata": {},
          "output_type": "execute_result"
        }
      ],
      "source": [
        "x_test.shape, y_test.shape"
      ]
    },
    {
      "cell_type": "code",
      "execution_count": 66,
      "metadata": {
        "colab": {
          "base_uri": "https://localhost:8080/"
        },
        "id": "K_AdWXU5jn38",
        "outputId": "cb9034d3-4bda-414f-9d68-0bdda9b466c7"
      },
      "outputs": [
        {
          "data": {
            "text/plain": [
              "(100, 100, 3)"
            ]
          },
          "execution_count": 66,
          "metadata": {},
          "output_type": "execute_result"
        }
      ],
      "source": [
        "x_train[0].shape"
      ]
    },
    {
      "cell_type": "code",
      "execution_count": 4,
      "metadata": {
        "colab": {
          "base_uri": "https://localhost:8080/"
        },
        "id": "iublzY1ujn38",
        "outputId": "56411947-39a4-4c53-d9ad-580eb35a3821"
      },
      "outputs": [
        {
          "ename": "NameError",
          "evalue": "name 'x_train' is not defined",
          "output_type": "error",
          "traceback": [
            "\u001b[0;31m---------------------------------------------------------------------------\u001b[0m",
            "\u001b[0;31mNameError\u001b[0m                                 Traceback (most recent call last)",
            "Cell \u001b[0;32mIn[4], line 5\u001b[0m\n\u001b[1;32m      2\u001b[0m model \u001b[39m=\u001b[39m tf\u001b[39m.\u001b[39mkeras\u001b[39m.\u001b[39mSequential()\n\u001b[1;32m      4\u001b[0m \u001b[39m# convoltuion layer\u001b[39;00m\n\u001b[0;32m----> 5\u001b[0m model\u001b[39m.\u001b[39madd(tf\u001b[39m.\u001b[39mkeras\u001b[39m.\u001b[39mlayers\u001b[39m.\u001b[39mConv2D(\u001b[39m32\u001b[39m, (\u001b[39m3\u001b[39m,\u001b[39m3\u001b[39m), activation \u001b[39m=\u001b[39m tf\u001b[39m.\u001b[39mnn\u001b[39m.\u001b[39mrelu, input_shape \u001b[39m=\u001b[39m x_train[\u001b[39m0\u001b[39m]\u001b[39m.\u001b[39mshape))\n\u001b[1;32m      6\u001b[0m \u001b[39m# pooling layer\u001b[39;00m\n\u001b[1;32m      7\u001b[0m model\u001b[39m.\u001b[39madd(tf\u001b[39m.\u001b[39mkeras\u001b[39m.\u001b[39mlayers\u001b[39m.\u001b[39mMaxPool2D(\u001b[39m2\u001b[39m,\u001b[39m2\u001b[39m))\n",
            "\u001b[0;31mNameError\u001b[0m: name 'x_train' is not defined"
          ]
        }
      ],
      "source": [
        "from tensorflow._api.v2.nn import dropout\n",
        "model = tf.keras.Sequential()\n",
        "\n",
        "# convoltuion layer\n",
        "model.add(tf.keras.layers.Conv2D(32, (3,3), activation = tf.nn.relu, input_shape = x_train[0].shape))\n",
        "# pooling layer\n",
        "model.add(tf.keras.layers.MaxPool2D(2,2))\n",
        "model.add(tf.keras.layers.BatchNormalization())\n",
        "\n",
        "\n",
        "# convolution layer\n",
        "model.add(tf.keras.layers.Conv2D(32, (3,3), activation = tf.nn.relu))\n",
        "# pooling layer\n",
        "model.add(tf.keras.layers.MaxPool2D(2,2))\n",
        "model.add(tf.keras.layers.BatchNormalization())\n",
        "\n",
        "# convolution layer\n",
        "model.add(tf.keras.layers.Conv2D(64, (3,3), activation = tf.nn.relu))\n",
        "# pooling layer\n",
        "model.add(tf.keras.layers.MaxPool2D(2,2))\n",
        "model.add(tf.keras.layers.BatchNormalization())\n",
        "\n",
        "# convolution layer\n",
        "model.add(tf.keras.layers.Conv2D(64, (3,3), activation = tf.nn.relu))\n",
        "# pooling layer\n",
        "model.add(tf.keras.layers.MaxPool2D(2,2))\n",
        "model.add(tf.keras.layers.BatchNormalization())\n",
        "\n",
        "# input layer\n",
        "model.add(tf.keras.layers.Flatten())\n",
        "\n",
        "\n",
        "# output layer\n",
        "model.add(tf.keras.layers.Dense(3, activation = tf.nn.softmax))\n",
        "\n",
        "model.summary()"
      ]
    },
    {
      "cell_type": "code",
      "execution_count": 68,
      "metadata": {
        "id": "UtDPNiq_jn39"
      },
      "outputs": [],
      "source": [
        "# compile the model\n",
        "model.compile(optimizer='adam', loss='sparse_categorical_crossentropy', metrics=['accuracy'])"
      ]
    },
    {
      "cell_type": "code",
      "execution_count": 69,
      "metadata": {
        "id": "r6VoScDljn39"
      },
      "outputs": [],
      "source": [
        "early_stop = EarlyStopping(monitor='val_loss', mode='min', verbose=1, start_from_epoch = 7, patience=5)"
      ]
    },
    {
      "cell_type": "code",
      "execution_count": 70,
      "metadata": {
        "colab": {
          "base_uri": "https://localhost:8080/"
        },
        "id": "PH5Gt6Vcjn39",
        "outputId": "129c24fe-031a-47be-bd11-9d454cb23c78"
      },
      "outputs": [
        {
          "name": "stdout",
          "output_type": "stream",
          "text": [
            "Epoch 1/50\n",
            "94/94 [==============================] - 92s 911ms/step - loss: 0.9827 - accuracy: 0.5733 - val_loss: 1.8661 - val_accuracy: 0.2823\n",
            "Epoch 2/50\n",
            "94/94 [==============================] - 82s 876ms/step - loss: 0.6598 - accuracy: 0.7255 - val_loss: 2.4997 - val_accuracy: 0.2823\n",
            "Epoch 3/50\n",
            "94/94 [==============================] - 78s 827ms/step - loss: 0.4965 - accuracy: 0.8125 - val_loss: 1.5831 - val_accuracy: 0.2836\n",
            "Epoch 4/50\n",
            "94/94 [==============================] - 86s 913ms/step - loss: 0.3856 - accuracy: 0.8578 - val_loss: 1.2338 - val_accuracy: 0.4527\n",
            "Epoch 5/50\n",
            "94/94 [==============================] - 85s 907ms/step - loss: 0.2726 - accuracy: 0.9107 - val_loss: 1.4281 - val_accuracy: 0.4501\n",
            "Epoch 6/50\n",
            "94/94 [==============================] - 75s 796ms/step - loss: 0.1840 - accuracy: 0.9464 - val_loss: 0.7833 - val_accuracy: 0.6831\n",
            "Epoch 7/50\n",
            "94/94 [==============================] - 70s 748ms/step - loss: 0.0998 - accuracy: 0.9813 - val_loss: 1.1486 - val_accuracy: 0.5686\n",
            "Epoch 8/50\n",
            "94/94 [==============================] - 79s 841ms/step - loss: 0.0577 - accuracy: 0.9933 - val_loss: 0.7424 - val_accuracy: 0.7310\n",
            "Epoch 9/50\n",
            "94/94 [==============================] - 76s 803ms/step - loss: 0.0245 - accuracy: 1.0000 - val_loss: 0.7490 - val_accuracy: 0.7337\n",
            "Epoch 10/50\n",
            "94/94 [==============================] - 78s 834ms/step - loss: 0.0121 - accuracy: 1.0000 - val_loss: 0.6472 - val_accuracy: 0.7563\n",
            "Epoch 11/50\n",
            "94/94 [==============================] - 120s 1s/step - loss: 0.0071 - accuracy: 1.0000 - val_loss: 0.6472 - val_accuracy: 0.7696\n",
            "Epoch 12/50\n",
            "94/94 [==============================] - 106s 1s/step - loss: 0.0051 - accuracy: 1.0000 - val_loss: 0.6769 - val_accuracy: 0.7723\n",
            "Epoch 13/50\n",
            "94/94 [==============================] - 83s 883ms/step - loss: 0.0041 - accuracy: 1.0000 - val_loss: 0.6806 - val_accuracy: 0.7656\n",
            "Epoch 14/50\n",
            "94/94 [==============================] - 100s 1s/step - loss: 0.0033 - accuracy: 1.0000 - val_loss: 0.7033 - val_accuracy: 0.7696\n",
            "Epoch 15/50\n",
            "94/94 [==============================] - 115s 1s/step - loss: 0.0027 - accuracy: 1.0000 - val_loss: 0.7313 - val_accuracy: 0.7537\n",
            "Epoch 15: early stopping\n"
          ]
        }
      ],
      "source": [
        "record = model.fit(x_train, y_train, validation_data=(x_val, y_val), epochs=50, callbacks=[early_stop], shuffle=True)"
      ]
    },
    {
      "cell_type": "code",
      "execution_count": 71,
      "metadata": {
        "colab": {
          "base_uri": "https://localhost:8080/",
          "height": 430
        },
        "id": "-9dHeZGIjn3-",
        "outputId": "cd5aaf71-6694-43c7-985c-4bab2938a181"
      },
      "outputs": [
        {
          "data": {
            "image/png": "[encoded data removed]",
            "text/plain": [
              "<Figure size 640x480 with 1 Axes>"
            ]
          },
          "metadata": {},
          "output_type": "display_data"
        }
      ],
      "source": [
        "plt.plot(record.history['loss'], label = 'train loss')\n",
        "plt.plot(record.history['val_loss'], label = 'val loss')\n",
        "plt.legend()\n",
        "\n",
        "plt.savefig('loss_graph.png')\n",
        "plt.show()"
      ]
    },
    {
      "cell_type": "code",
      "execution_count": 72,
      "metadata": {
        "colab": {
          "base_uri": "https://localhost:8080/",
          "height": 430
        },
        "id": "fUi9T3iojn3-",
        "outputId": "e50f7449-51af-45a5-fd91-5d9811db6f67"
      },
      "outputs": [
        {
          "data": {
            "image/png": "[encoded data removed]",
            "text/plain": [
              "<Figure size 640x480 with 1 Axes>"
            ]
          },
          "metadata": {},
          "output_type": "display_data"
        }
      ],
      "source": [
        "# accuracy over epochs\n",
        "plt.plot(record.history['accuracy'], label = 'train acc')\n",
        "plt.plot(record.history['val_accuracy'], label = 'val acc')\n",
        "plt.legend()\n",
        "plt.savefig('acc-graph.png')\n",
        "plt.show()"
      ]
    },
    {
      "cell_type": "code",
      "execution_count": 73,
      "metadata": {
        "colab": {
          "base_uri": "https://localhost:8080/"
        },
        "id": "77f2QBCkxGnx",
        "outputId": "c46299d0-11a8-40fb-bb23-ab31a961e56a"
      },
      "outputs": [
        {
          "name": "stdout",
          "output_type": "stream",
          "text": [
            "24/24 [==============================] - 8s 248ms/step\n",
            "              precision    recall  f1-score   support\n",
            "\n",
            "           0       0.91      0.80      0.85       454\n",
            "           1       0.48      0.66      0.55       102\n",
            "           2       0.64      0.70      0.67       195\n",
            "\n",
            "    accuracy                           0.75       751\n",
            "   macro avg       0.68      0.72      0.69       751\n",
            "weighted avg       0.78      0.75      0.76       751\n",
            "\n"
          ]
        }
      ],
      "source": [
        "y_val_pred = model.predict(x_val)\n",
        "y_val_pred = np.argmax(y_val_pred, axis=1)\n",
        "print(classification_report(y_val_pred, y_val))"
      ]
    },
    {
      "cell_type": "code",
      "execution_count": 74,
      "metadata": {
        "colab": {
          "base_uri": "https://localhost:8080/"
        },
        "id": "tWmZ1wpUysqg",
        "outputId": "c4e666b5-a076-46b8-a6bb-dad25481751e"
      },
      "outputs": [
        {
          "data": {
            "text/plain": [
              "array([[363,  41,  50],\n",
              "       [  9,  67,  26],\n",
              "       [ 26,  33, 136]])"
            ]
          },
          "execution_count": 74,
          "metadata": {},
          "output_type": "execute_result"
        }
      ],
      "source": [
        "confusion_matrix(y_val_pred, y_val)"
      ]
    },
    {
      "cell_type": "code",
      "execution_count": 75,
      "metadata": {
        "colab": {
          "base_uri": "https://localhost:8080/"
        },
        "id": "6qkr0Sgny0gW",
        "outputId": "6df8d425-ab85-44f0-9481-0fc391955971"
      },
      "outputs": [
        {
          "name": "stdout",
          "output_type": "stream",
          "text": [
            "14/14 [==============================] - 4s 294ms/step\n"
          ]
        }
      ],
      "source": [
        "y_pred = model.predict(x_test)\n",
        "y_pred = np.argmax(y_pred, axis = 1)"
      ]
    },
    {
      "cell_type": "code",
      "execution_count": 76,
      "metadata": {
        "colab": {
          "base_uri": "https://localhost:8080/"
        },
        "id": "70hUe1ldzB72",
        "outputId": "1b0f97fd-d38f-47aa-fc2c-547b189e4b82"
      },
      "outputs": [
        {
          "data": {
            "text/plain": [
              "0.7727272727272727"
            ]
          },
          "execution_count": 76,
          "metadata": {},
          "output_type": "execute_result"
        }
      ],
      "source": [
        "accuracy_score(y_pred, y_test)"
      ]
    },
    {
      "cell_type": "code",
      "execution_count": 77,
      "metadata": {
        "colab": {
          "base_uri": "https://localhost:8080/"
        },
        "id": "MFZGNqEmzHb6",
        "outputId": "a1be625e-fff0-408e-90cf-36f4be4b03ab"
      },
      "outputs": [
        {
          "name": "stdout",
          "output_type": "stream",
          "text": [
            "              precision    recall  f1-score   support\n",
            "\n",
            "           0       0.93      0.80      0.86       252\n",
            "           1       0.53      0.75      0.62        55\n",
            "           2       0.65      0.72      0.68       111\n",
            "\n",
            "    accuracy                           0.77       418\n",
            "   macro avg       0.70      0.76      0.72       418\n",
            "weighted avg       0.80      0.77      0.78       418\n",
            "\n"
          ]
        }
      ],
      "source": [
        "print(classification_report(y_pred, y_test))"
      ]
    },
    {
      "cell_type": "code",
      "execution_count": 78,
      "metadata": {
        "colab": {
          "base_uri": "https://localhost:8080/"
        },
        "id": "rFEHOdHkzQMk",
        "outputId": "09a715ad-1d96-49e0-c15d-dff04768e690"
      },
      "outputs": [
        {
          "data": {
            "text/plain": [
              "array([[202,  18,  32],\n",
              "       [  3,  41,  11],\n",
              "       [ 13,  18,  80]])"
            ]
          },
          "execution_count": 78,
          "metadata": {},
          "output_type": "execute_result"
        }
      ],
      "source": [
        "confusion_matrix(y_pred, y_test)"
      ]
    },
    {
      "cell_type": "code",
      "execution_count": 106,
      "metadata": {
        "colab": {
          "base_uri": "https://localhost:8080/"
        },
        "id": "ET27MoSi0Cxw",
        "outputId": "a68e13dd-ab54-44cf-cfc6-61d00e507952"
      },
      "outputs": [
        {
          "ename": "NameError",
          "evalue": "name 'accuracy_score' is not defined",
          "output_type": "error",
          "traceback": [
            "\u001b[0;31m---------------------------------------------------------------------------\u001b[0m",
            "\u001b[0;31mNameError\u001b[0m                                 Traceback (most recent call last)",
            "Cell \u001b[0;32mIn[106], line 1\u001b[0m\n\u001b[0;32m----> 1\u001b[0m accuracy_score(train_pred, y_train)\n",
            "\u001b[0;31mNameError\u001b[0m: name 'accuracy_score' is not defined"
          ]
        }
      ],
      "source": [
        "accuracy_score(train_pred, y_train)"
      ]
    },
    {
      "cell_type": "code",
      "execution_count": null,
      "metadata": {},
      "outputs": [],
      "source": [
        "model.to_json('/Users/sahreenhaider/Documents/Covid_detection_model/model.json')"
      ]
    },
    {
      "cell_type": "code",
      "execution_count": 83,
      "metadata": {
        "id": "o8i5gZR2zWBb"
      },
      "outputs": [],
      "source": [
        "model.save('/Users/sahreenhaider/Documents/Covid_detection_model/model.h5')"
      ]
    }
  ],
  "metadata": {
    "accelerator": "GPU",
    "colab": {
      "gpuType": "T4",
      "provenance": []
    },
    "kernelspec": {
      "display_name": "Python 3",
      "name": "python3"
    },
    "language_info": {
      "codemirror_mode": {
        "name": "ipython",
        "version": 3
      },
      "file_extension": ".py",
      "mimetype": "text/x-python",
      "name": "python",
      "nbconvert_exporter": "python",
      "pygments_lexer": "ipython3",
      "version": "3.11.2"
    },
    "orig_nbformat": 4
  },
  "nbformat": 4,
  "nbformat_minor": 0
}
