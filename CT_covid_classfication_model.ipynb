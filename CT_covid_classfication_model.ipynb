{
  "cells": [
    {
      "cell_type": "code",
      "source": [
        "from google.colab import drive\n",
        "drive.mount('/content/drive')"
      ],
      "metadata": {
        "id": "_F3uWIP8j6LG"
      },
      "execution_count": null,
      "outputs": []
    },
    {
      "cell_type": "code",
      "execution_count": 23,
      "metadata": {
        "id": "QQIwIK1qjn3v"
      },
      "outputs": [],
      "source": [
        "import tensorflow as tf\n",
        "from tensorflow.keras.models import Model\n",
        "from tensorflow.keras.preprocessing import image\n",
        "from sklearn.metrics import accuracy_score, classification_report, confusion_matrix\n",
        "from tensorflow.keras.preprocessing.image import ImageDataGenerator\n",
        "from sklearn.model_selection import train_test_split\n",
        "from tensorflow.keras.callbacks import EarlyStopping\n",
        "import numpy as np\n",
        "import pandas as pd\n",
        "import os\n",
        "import cv2\n",
        "import matplotlib.pyplot as plt"
      ]
    },
    {
      "cell_type": "code",
      "execution_count": 24,
      "metadata": {
        "id": "m7b3ZQggjn3y"
      },
      "outputs": [],
      "source": [
        "# resizing all the images\n",
        "IMAGE_SIZE = (100,100)\n",
        "path = '/content/drive/MyDrive/New_Data_CoV2'\n",
        "data = []\n",
        "c = 0"
      ]
    },
    {
      "cell_type": "code",
      "execution_count": 25,
      "metadata": {
        "colab": {
          "base_uri": "https://localhost:8080/"
        },
        "id": "a4a6fpYjjn3z",
        "outputId": "a2eb1dff-4018-4bdc-a044-27991b291420"
      },
      "outputs": [
        {
          "output_type": "stream",
          "name": "stdout",
          "text": [
            "Number of images skipped=  0\n"
          ]
        }
      ],
      "source": [
        "for folder in os.listdir(path):\n",
        "    sub_path=path+\"/\"+folder\n",
        "    for folder2 in os.listdir(sub_path):\n",
        "      sub_path2=sub_path+\"/\"+folder2\n",
        "      for img in os.listdir(sub_path2):\n",
        "        image_path=sub_path2+\"/\"+img\n",
        "        img_arr=cv2.imread(image_path)\n",
        "\n",
        "        try:\n",
        "          img_arr=cv2.resize(img_arr,IMAGE_SIZE)\n",
        "          data.append(img_arr)\n",
        "        except Exception as E:\n",
        "          c+=1\n",
        "          data.append(np.array())\n",
        "          print('path of images skipped: ', image_path)\n",
        "          continue\n",
        "\n",
        "\n",
        "print(\"Number of images skipped= \",c)"
      ]
    },
    {
      "cell_type": "code",
      "execution_count": 26,
      "metadata": {
        "id": "vgVAfw5Qjn31"
      },
      "outputs": [],
      "source": [
        "# converting the data list consisting of arrays into an array\n",
        "X = np.array(data)"
      ]
    },
    {
      "cell_type": "code",
      "execution_count": 27,
      "metadata": {
        "colab": {
          "base_uri": "https://localhost:8080/"
        },
        "id": "h1z0r2bCjn31",
        "outputId": "a86be863-1809-4c88-dd2c-452d43d870b2"
      },
      "outputs": [
        {
          "output_type": "execute_result",
          "data": {
            "text/plain": [
              "(4171, 100, 100, 3)"
            ]
          },
          "metadata": {},
          "execution_count": 27
        }
      ],
      "source": [
        "# shape of X\n",
        "X.shape"
      ]
    },
    {
      "cell_type": "code",
      "execution_count": 28,
      "metadata": {
        "id": "xUxFRzqijn32"
      },
      "outputs": [],
      "source": [
        "# normalizing the input\n",
        "x = X/255"
      ]
    },
    {
      "cell_type": "code",
      "execution_count": 29,
      "metadata": {
        "colab": {
          "base_uri": "https://localhost:8080/"
        },
        "id": "cmVAszvkjn33",
        "outputId": "7562c380-d35c-44cb-c1f2-fa7b898aefbe"
      },
      "outputs": [
        {
          "output_type": "stream",
          "name": "stdout",
          "text": [
            "Found 4171 images belonging to 3 classes.\n"
          ]
        }
      ],
      "source": [
        "# using datagen to agument the existing input data to make the prediction labels\n",
        "datagen = ImageDataGenerator(rescale = 1/255)\n",
        "dataset = datagen.flow_from_directory(path,\n",
        "                                    target_size = IMAGE_SIZE,\n",
        "                                    batch_size = 32,\n",
        "                                    class_mode = 'sparse')"
      ]
    },
    {
      "cell_type": "code",
      "execution_count": 30,
      "metadata": {
        "colab": {
          "base_uri": "https://localhost:8080/"
        },
        "id": "udbdE82ijn34",
        "outputId": "efde0629-7dbf-40e0-cb7b-1c6bd34aa645"
      },
      "outputs": [
        {
          "output_type": "execute_result",
          "data": {
            "text/plain": [
              "{'Covid': 0, 'Healthy': 1, 'Others': 2}"
            ]
          },
          "metadata": {},
          "execution_count": 30
        }
      ],
      "source": [
        "# classes of predict labels\n",
        "dataset.class_indices"
      ]
    },
    {
      "cell_type": "code",
      "execution_count": 31,
      "metadata": {
        "id": "MtwGL_gJjn35"
      },
      "outputs": [],
      "source": [
        "y = dataset.classes"
      ]
    },
    {
      "cell_type": "code",
      "execution_count": 32,
      "metadata": {
        "colab": {
          "base_uri": "https://localhost:8080/"
        },
        "id": "R4hbqT8Ijn35",
        "outputId": "751fb6b2-bdb1-4afe-d36c-e9ca8a515512"
      },
      "outputs": [
        {
          "output_type": "execute_result",
          "data": {
            "text/plain": [
              "(4171,)"
            ]
          },
          "metadata": {},
          "execution_count": 32
        }
      ],
      "source": [
        "y.shape"
      ]
    },
    {
      "cell_type": "code",
      "execution_count": 33,
      "metadata": {
        "colab": {
          "base_uri": "https://localhost:8080/"
        },
        "id": "6tIVCcmVjn36",
        "outputId": "8a56eae4-caac-4f7a-c23b-7f0c75a48103"
      },
      "outputs": [
        {
          "output_type": "execute_result",
          "data": {
            "text/plain": [
              "4171"
            ]
          },
          "metadata": {},
          "execution_count": 33
        }
      ],
      "source": [
        "len(y)"
      ]
    },
    {
      "cell_type": "code",
      "execution_count": 34,
      "metadata": {
        "colab": {
          "base_uri": "https://localhost:8080/"
        },
        "id": "nvju5MNDjn36",
        "outputId": "23b7d8ba-f62b-43a5-e7ee-35da42ce169d"
      },
      "outputs": [
        {
          "output_type": "execute_result",
          "data": {
            "text/plain": [
              "array([0, 0, 0, ..., 2, 2, 2], dtype=int32)"
            ]
          },
          "metadata": {},
          "execution_count": 34
        }
      ],
      "source": [
        "y"
      ]
    },
    {
      "cell_type": "code",
      "execution_count": 35,
      "metadata": {
        "id": "au33KTnJjn37"
      },
      "outputs": [],
      "source": [
        "# splitting the data into train, validation, test sets\n",
        "x_train, x_test, y_train, y_test = train_test_split(x, y, test_size = 0.1)\n",
        "x_train, x_val, y_train, y_val = train_test_split(x_train, y_train, test_size=0.2)"
      ]
    },
    {
      "cell_type": "code",
      "execution_count": 36,
      "metadata": {
        "colab": {
          "base_uri": "https://localhost:8080/"
        },
        "id": "0ZsiAvWcjn37",
        "outputId": "452f49c8-5b93-4e01-d25e-5fd2b8aa60df"
      },
      "outputs": [
        {
          "output_type": "execute_result",
          "data": {
            "text/plain": [
              "((3002, 100, 100, 3), (3002,))"
            ]
          },
          "metadata": {},
          "execution_count": 36
        }
      ],
      "source": [
        "x_train.shape, y_train.shape"
      ]
    },
    {
      "cell_type": "code",
      "execution_count": 37,
      "metadata": {
        "colab": {
          "base_uri": "https://localhost:8080/"
        },
        "id": "D8VJcHH0jn37",
        "outputId": "5fd662ad-bdce-4539-e76e-727bf7510edf"
      },
      "outputs": [
        {
          "output_type": "execute_result",
          "data": {
            "text/plain": [
              "((751, 100, 100, 3), (751,))"
            ]
          },
          "metadata": {},
          "execution_count": 37
        }
      ],
      "source": [
        "x_val.shape, y_val.shape"
      ]
    },
    {
      "cell_type": "code",
      "execution_count": 38,
      "metadata": {
        "colab": {
          "base_uri": "https://localhost:8080/"
        },
        "id": "lQ19u6Uqjn38",
        "outputId": "9c2de372-476a-4a08-ce90-ccceb67f15e1"
      },
      "outputs": [
        {
          "output_type": "execute_result",
          "data": {
            "text/plain": [
              "((418, 100, 100, 3), (418,))"
            ]
          },
          "metadata": {},
          "execution_count": 38
        }
      ],
      "source": [
        "x_test.shape, y_test.shape"
      ]
    },
    {
      "cell_type": "code",
      "execution_count": 39,
      "metadata": {
        "colab": {
          "base_uri": "https://localhost:8080/"
        },
        "id": "K_AdWXU5jn38",
        "outputId": "cb9034d3-4bda-414f-9d68-0bdda9b466c7"
      },
      "outputs": [
        {
          "output_type": "execute_result",
          "data": {
            "text/plain": [
              "(100, 100, 3)"
            ]
          },
          "metadata": {},
          "execution_count": 39
        }
      ],
      "source": [
        "x_train[0].shape"
      ]
    },
    {
      "cell_type": "code",
      "execution_count": 40,
      "metadata": {
        "colab": {
          "base_uri": "https://localhost:8080/"
        },
        "id": "iublzY1ujn38",
        "outputId": "56411947-39a4-4c53-d9ad-580eb35a3821"
      },
      "outputs": [
        {
          "output_type": "stream",
          "name": "stdout",
          "text": [
            "Model: \"sequential_1\"\n",
            "_________________________________________________________________\n",
            " Layer (type)                Output Shape              Param #   \n",
            "=================================================================\n",
            " conv2d (Conv2D)             (None, 98, 98, 32)        896       \n",
            "                                                                 \n",
            " max_pooling2d (MaxPooling2D  (None, 49, 49, 32)       0         \n",
            " )                                                               \n",
            "                                                                 \n",
            " batch_normalization (BatchN  (None, 49, 49, 32)       128       \n",
            " ormalization)                                                   \n",
            "                                                                 \n",
            " conv2d_1 (Conv2D)           (None, 47, 47, 32)        9248      \n",
            "                                                                 \n",
            " max_pooling2d_1 (MaxPooling  (None, 23, 23, 32)       0         \n",
            " 2D)                                                             \n",
            "                                                                 \n",
            " batch_normalization_1 (Batc  (None, 23, 23, 32)       128       \n",
            " hNormalization)                                                 \n",
            "                                                                 \n",
            " conv2d_2 (Conv2D)           (None, 21, 21, 64)        18496     \n",
            "                                                                 \n",
            " max_pooling2d_2 (MaxPooling  (None, 10, 10, 64)       0         \n",
            " 2D)                                                             \n",
            "                                                                 \n",
            " batch_normalization_2 (Batc  (None, 10, 10, 64)       256       \n",
            " hNormalization)                                                 \n",
            "                                                                 \n",
            " conv2d_3 (Conv2D)           (None, 8, 8, 64)          36928     \n",
            "                                                                 \n",
            " max_pooling2d_3 (MaxPooling  (None, 4, 4, 64)         0         \n",
            " 2D)                                                             \n",
            "                                                                 \n",
            " batch_normalization_3 (Batc  (None, 4, 4, 64)         256       \n",
            " hNormalization)                                                 \n",
            "                                                                 \n",
            " flatten (Flatten)           (None, 1024)              0         \n",
            "                                                                 \n",
            " dense (Dense)               (None, 3)                 3075      \n",
            "                                                                 \n",
            "=================================================================\n",
            "Total params: 69,411\n",
            "Trainable params: 69,027\n",
            "Non-trainable params: 384\n",
            "_________________________________________________________________\n"
          ]
        }
      ],
      "source": [
        "from tensorflow._api.v2.nn import dropout\n",
        "model = tf.keras.Sequential()\n",
        "\n",
        "# convoltuion layer\n",
        "model.add(tf.keras.layers.Conv2D(32, (3,3), activation = tf.nn.relu, input_shape = x_train[0].shape))\n",
        "# pooling layer\n",
        "model.add(tf.keras.layers.MaxPool2D(2,2))\n",
        "model.add(tf.keras.layers.BatchNormalization())\n",
        "\n",
        "\n",
        "# convolution layer\n",
        "model.add(tf.keras.layers.Conv2D(32, (3,3), activation = tf.nn.relu))\n",
        "# pooling layer\n",
        "model.add(tf.keras.layers.MaxPool2D(2,2))\n",
        "model.add(tf.keras.layers.BatchNormalization())\n",
        "\n",
        "# convolution layer\n",
        "model.add(tf.keras.layers.Conv2D(64, (3,3), activation = tf.nn.relu))\n",
        "# pooling layer\n",
        "model.add(tf.keras.layers.MaxPool2D(2,2))\n",
        "model.add(tf.keras.layers.BatchNormalization())\n",
        "\n",
        "# convolution layer\n",
        "model.add(tf.keras.layers.Conv2D(64, (3,3), activation = tf.nn.relu))\n",
        "# pooling layer\n",
        "model.add(tf.keras.layers.MaxPool2D(2,2))\n",
        "model.add(tf.keras.layers.BatchNormalization())\n",
        "\n",
        "# input layer\n",
        "model.add(tf.keras.layers.Flatten())\n",
        "\n",
        "\n",
        "# output layer\n",
        "model.add(tf.keras.layers.Dense(3, activation = tf.nn.softmax))\n",
        "\n",
        "model.summary()"
      ]
    },
    {
      "cell_type": "code",
      "execution_count": 41,
      "metadata": {
        "id": "UtDPNiq_jn39"
      },
      "outputs": [],
      "source": [
        "# compile the model\n",
        "model.compile(optimizer='adam', loss='sparse_categorical_crossentropy', metrics=['accuracy'])"
      ]
    },
    {
      "cell_type": "code",
      "execution_count": 42,
      "metadata": {
        "id": "r6VoScDljn39"
      },
      "outputs": [],
      "source": [
        "early_stop = EarlyStopping(monitor='val_loss', mode='min', verbose=1, start_from_epoch = 7, patience=5)"
      ]
    },
    {
      "cell_type": "code",
      "execution_count": 43,
      "metadata": {
        "colab": {
          "base_uri": "https://localhost:8080/"
        },
        "id": "PH5Gt6Vcjn39",
        "outputId": "129c24fe-031a-47be-bd11-9d454cb23c78"
      },
      "outputs": [
        {
          "output_type": "stream",
          "name": "stdout",
          "text": [
            "Epoch 1/50\n",
            "94/94 [==============================] - 15s 24ms/step - loss: 0.9177 - accuracy: 0.6256 - val_loss: 1.0644 - val_accuracy: 0.5326\n",
            "Epoch 2/50\n",
            "94/94 [==============================] - 1s 14ms/step - loss: 0.5775 - accuracy: 0.7605 - val_loss: 0.9243 - val_accuracy: 0.5366\n",
            "Epoch 3/50\n",
            "94/94 [==============================] - 1s 16ms/step - loss: 0.4401 - accuracy: 0.8318 - val_loss: 0.9492 - val_accuracy: 0.5340\n",
            "Epoch 4/50\n",
            "94/94 [==============================] - 1s 13ms/step - loss: 0.2909 - accuracy: 0.8967 - val_loss: 0.9519 - val_accuracy: 0.5379\n",
            "Epoch 5/50\n",
            "94/94 [==============================] - 1s 13ms/step - loss: 0.2018 - accuracy: 0.9384 - val_loss: 0.7000 - val_accuracy: 0.7017\n",
            "Epoch 6/50\n",
            "94/94 [==============================] - 1s 13ms/step - loss: 0.1092 - accuracy: 0.9753 - val_loss: 0.7189 - val_accuracy: 0.7004\n",
            "Epoch 7/50\n",
            "94/94 [==============================] - 1s 13ms/step - loss: 0.0637 - accuracy: 0.9903 - val_loss: 0.5710 - val_accuracy: 0.7710\n",
            "Epoch 8/50\n",
            "94/94 [==============================] - 1s 12ms/step - loss: 0.0287 - accuracy: 0.9997 - val_loss: 0.5882 - val_accuracy: 0.7723\n",
            "Epoch 9/50\n",
            "94/94 [==============================] - 1s 13ms/step - loss: 0.0128 - accuracy: 1.0000 - val_loss: 0.6140 - val_accuracy: 0.7843\n",
            "Epoch 10/50\n",
            "94/94 [==============================] - 1s 13ms/step - loss: 0.0071 - accuracy: 1.0000 - val_loss: 0.6159 - val_accuracy: 0.7856\n",
            "Epoch 11/50\n",
            "94/94 [==============================] - 1s 13ms/step - loss: 0.0047 - accuracy: 1.0000 - val_loss: 0.6095 - val_accuracy: 0.7923\n",
            "Epoch 12/50\n",
            "94/94 [==============================] - 1s 15ms/step - loss: 0.0037 - accuracy: 1.0000 - val_loss: 0.6262 - val_accuracy: 0.7963\n",
            "Epoch 13/50\n",
            "94/94 [==============================] - 1s 14ms/step - loss: 0.0030 - accuracy: 1.0000 - val_loss: 0.6149 - val_accuracy: 0.7949\n",
            "Epoch 13: early stopping\n"
          ]
        }
      ],
      "source": [
        "record = model.fit(x_train, y_train, validation_data=(x_val, y_val), epochs=50, callbacks=[early_stop], shuffle=True)"
      ]
    },
    {
      "cell_type": "code",
      "execution_count": 44,
      "metadata": {
        "colab": {
          "base_uri": "https://localhost:8080/",
          "height": 430
        },
        "id": "-9dHeZGIjn3-",
        "outputId": "cd5aaf71-6694-43c7-985c-4bab2938a181"
      },
      "outputs": [
        {
          "output_type": "display_data",
          "data": {
            "text/plain": [
              "<Figure size 640x480 with 1 Axes>"
            ],
            "image/png": "[encoded data removed]"
          },
          "metadata": {}
        }
      ],
      "source": [
        "plt.plot(record.history['loss'], label = 'train loss')\n",
        "plt.plot(record.history['val_loss'], label = 'val loss')\n",
        "plt.legend()\n",
        "\n",
        "plt.savefig('loss_graph.png')\n",
        "plt.show()"
      ]
    },
    {
      "cell_type": "code",
      "execution_count": 45,
      "metadata": {
        "colab": {
          "base_uri": "https://localhost:8080/",
          "height": 430
        },
        "id": "fUi9T3iojn3-",
        "outputId": "e50f7449-51af-45a5-fd91-5d9811db6f67"
      },
      "outputs": [
        {
          "output_type": "display_data",
          "data": {
            "text/plain": [
              "<Figure size 640x480 with 1 Axes>"
            ],
            "image/png": "[encoded data removed]"
          },
          "metadata": {}
        }
      ],
      "source": [
        "# accuracy over epochs\n",
        "plt.plot(record.history['accuracy'], label = 'train acc')\n",
        "plt.plot(record.history['val_accuracy'], label = 'val acc')\n",
        "plt.legend()\n",
        "plt.savefig('acc-graph.png')\n",
        "plt.show()"
      ]
    },
    {
      "cell_type": "code",
      "source": [
        "y_val_pred = model.predict(x_val)\n",
        "y_val_pred = np.argmax(y_val_pred, axis=1)\n",
        "print(classification_report(y_val_pred, y_val))"
      ],
      "metadata": {
        "colab": {
          "base_uri": "https://localhost:8080/"
        },
        "id": "77f2QBCkxGnx",
        "outputId": "c46299d0-11a8-40fb-bb23-ab31a961e56a"
      },
      "execution_count": 46,
      "outputs": [
        {
          "output_type": "stream",
          "name": "stdout",
          "text": [
            "24/24 [==============================] - 0s 4ms/step\n",
            "              precision    recall  f1-score   support\n",
            "\n",
            "           0       0.90      0.88      0.89       408\n",
            "           1       0.53      0.65      0.58       122\n",
            "           2       0.78      0.71      0.74       221\n",
            "\n",
            "    accuracy                           0.79       751\n",
            "   macro avg       0.74      0.75      0.74       751\n",
            "weighted avg       0.81      0.79      0.80       751\n",
            "\n"
          ]
        }
      ]
    },
    {
      "cell_type": "code",
      "source": [
        "confusion_matrix(y_val_pred, y_val)"
      ],
      "metadata": {
        "colab": {
          "base_uri": "https://localhost:8080/"
        },
        "id": "tWmZ1wpUysqg",
        "outputId": "c4e666b5-a076-46b8-a6bb-dad25481751e"
      },
      "execution_count": 47,
      "outputs": [
        {
          "output_type": "execute_result",
          "data": {
            "text/plain": [
              "array([[361,  30,  17],\n",
              "       [ 16,  79,  27],\n",
              "       [ 23,  41, 157]])"
            ]
          },
          "metadata": {},
          "execution_count": 47
        }
      ]
    },
    {
      "cell_type": "code",
      "source": [
        "y_pred = model.predict(x_test)\n",
        "y_pred = np.argmax(y_pred, axis = 1)"
      ],
      "metadata": {
        "colab": {
          "base_uri": "https://localhost:8080/"
        },
        "id": "6qkr0Sgny0gW",
        "outputId": "6df8d425-ab85-44f0-9481-0fc391955971"
      },
      "execution_count": 48,
      "outputs": [
        {
          "output_type": "stream",
          "name": "stdout",
          "text": [
            "14/14 [==============================] - 0s 17ms/step\n"
          ]
        }
      ]
    },
    {
      "cell_type": "code",
      "source": [
        "accuracy_score(y_pred, y_test)"
      ],
      "metadata": {
        "colab": {
          "base_uri": "https://localhost:8080/"
        },
        "id": "70hUe1ldzB72",
        "outputId": "1b0f97fd-d38f-47aa-fc2c-547b189e4b82"
      },
      "execution_count": 49,
      "outputs": [
        {
          "output_type": "execute_result",
          "data": {
            "text/plain": [
              "0.8325358851674641"
            ]
          },
          "metadata": {},
          "execution_count": 49
        }
      ]
    },
    {
      "cell_type": "code",
      "source": [
        "print(classification_report(y_pred, y_test))"
      ],
      "metadata": {
        "colab": {
          "base_uri": "https://localhost:8080/"
        },
        "id": "MFZGNqEmzHb6",
        "outputId": "a1be625e-fff0-408e-90cf-36f4be4b03ab"
      },
      "execution_count": 50,
      "outputs": [
        {
          "output_type": "stream",
          "name": "stdout",
          "text": [
            "              precision    recall  f1-score   support\n",
            "\n",
            "           0       0.93      0.87      0.90       223\n",
            "           1       0.59      0.74      0.66        62\n",
            "           2       0.82      0.80      0.81       133\n",
            "\n",
            "    accuracy                           0.83       418\n",
            "   macro avg       0.78      0.81      0.79       418\n",
            "weighted avg       0.84      0.83      0.84       418\n",
            "\n"
          ]
        }
      ]
    },
    {
      "cell_type": "code",
      "source": [
        "confusion_matrix(y_pred, y_test)"
      ],
      "metadata": {
        "colab": {
          "base_uri": "https://localhost:8080/"
        },
        "id": "rFEHOdHkzQMk",
        "outputId": "09a715ad-1d96-49e0-c15d-dff04768e690"
      },
      "execution_count": 51,
      "outputs": [
        {
          "output_type": "execute_result",
          "data": {
            "text/plain": [
              "array([[195,  16,  12],\n",
              "       [  5,  46,  11],\n",
              "       [ 10,  16, 107]])"
            ]
          },
          "metadata": {},
          "execution_count": 51
        }
      ]
    },
    {
      "cell_type": "code",
      "source": [
        "train_pred = model.predict(x_train)\n",
        "train_pred = np.argmax(train_pred, axis=1)"
      ],
      "metadata": {
        "colab": {
          "base_uri": "https://localhost:8080/"
        },
        "id": "TQNVyzkY4eIk",
        "outputId": "c7e56aa4-9fb4-4038-e62f-48236aa5d450"
      },
      "execution_count": 52,
      "outputs": [
        {
          "output_type": "stream",
          "name": "stdout",
          "text": [
            "94/94 [==============================] - 1s 10ms/step\n"
          ]
        }
      ]
    },
    {
      "cell_type": "code",
      "source": [
        "accuracy_score(train_pred, y_train)"
      ],
      "metadata": {
        "colab": {
          "base_uri": "https://localhost:8080/"
        },
        "id": "ET27MoSi0Cxw",
        "outputId": "a68e13dd-ab54-44cf-cfc6-61d00e507952"
      },
      "execution_count": 53,
      "outputs": [
        {
          "output_type": "execute_result",
          "data": {
            "text/plain": [
              "1.0"
            ]
          },
          "metadata": {},
          "execution_count": 53
        }
      ]
    },
    {
      "cell_type": "code",
      "source": [
        "model.save('/content/drive/MyDrive/New_Data_CoV2/multi_class_model.h5')"
      ],
      "metadata": {
        "id": "o8i5gZR2zWBb"
      },
      "execution_count": 54,
      "outputs": []
    }
  ],
  "metadata": {
    "kernelspec": {
      "display_name": "Python 3",
      "name": "python3"
    },
    "language_info": {
      "codemirror_mode": {
        "name": "ipython",
        "version": 3
      },
      "file_extension": ".py",
      "mimetype": "text/x-python",
      "name": "python",
      "nbconvert_exporter": "python",
      "pygments_lexer": "ipython3",
      "version": "3.11.3"
    },
    "orig_nbformat": 4,
    "colab": {
      "provenance": [],
      "gpuType": "T4"
    },
    "accelerator": "GPU"
  },
  "nbformat": 4,
  "nbformat_minor": 0
}